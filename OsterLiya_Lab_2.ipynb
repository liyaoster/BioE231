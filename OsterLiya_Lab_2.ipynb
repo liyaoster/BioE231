{
 "cells": [
  {
   "cell_type": "markdown",
   "metadata": {},
   "source": [
    "Terminal commands:\n",
    "muscle -in seqs.fa -out seqs.aligned.fa\n",
    "FastTree -nt <seqs.aligned.fa > tree.nwk\n",
    "\n",
    "The muscle command took the input of the sequences and aligned them to each other, outputting a seqs.aligned.fa file.\n",
    "The FastTree command took the aligned sequence file from above and, using their relation to one another, generated a likely phylogenetic tree as the tree.nwk output."
   ]
  },
  {
   "cell_type": "code",
   "execution_count": 92,
   "metadata": {},
   "outputs": [
    {
     "name": "stdout",
     "output_type": "stream",
     "text": [
      " , hu.39\n",
      " |\n",
      " | rh.50\n",
      " |\n",
      " |_ rh.57\n",
      " |\n",
      " | rh.51\n",
      " |\n",
      " | rh.49\n",
      " |\n",
      "_, rh.53\n",
      " |\n",
      " | rh.64\n",
      " |\n",
      " , rh.61\n",
      " |\n",
      " | __ rh.58\n",
      " ||\n",
      " ||                                                    , pi.2\n",
      " ||                  __________________________________|\n",
      " ||                 |                                  |_ pi.3\n",
      " ||                 |                                  |\n",
      " ||                 |                                  | pi.1\n",
      " ||                 |\n",
      " ||                 |                   , rh.10\n",
      " ||              ___|                 __|\n",
      " ||             |   |                |  |, bb.1\n",
      " ||             |   |                |  ||\n",
      " ||             |   |    ____________|   | bb.2\n",
      " ||             |   |   |            |\n",
      " ||             |   |   |            |  __ hu.17\n",
      " ||             |   |   |            |_|\n",
      " ||             |   |___|              | hu.6\n",
      " ||             |       |\n",
      " ||             |       |       ___________ rh.2\n",
      " ||             |       |      |\n",
      " ||             |       |______|               _____ rh.40\n",
      " ||             |              |              |\n",
      " ||             |              |______________| , hu.67\n",
      " ||             |                             | |\n",
      " ||             |                             |_|, hu.37\n",
      " ||             |                               ||\n",
      " ||             |                               |, hu.40\n",
      " ||             |                                |\n",
      " ||             |                                | hu.66\n",
      " ||             |                                |\n",
      " ||             |                                , hu.41\n",
      " ||             |                                |\n",
      " ||             |                                | rh.38\n",
      " ||             |                                |\n",
      " ||             |                                | hu.42\n",
      " ||             |\n",
      " ||_____________|                                                                    , cy.3\n",
      " |              |                                                                    |\n",
      " |              |                                           _________________________, cy.6\n",
      " |              |                                          |                         |\n",
      " |              |                                          |                         | cy.4\n",
      " |              |                                          |                         |\n",
      " |              |                           _______________|                         , cy.5\n",
      " |              |                          |               |                         |\n",
      " |              |                          |               |                         | rh.13\n",
      " |              |                          |               |\n",
      " |              |                          |               |             , rh.35\n",
      " |              |                    ______|               |_____________|\n",
      " |              |                   |      |                             , rh.36\n",
      " |              |                   |      |                             |\n",
      " |              |                   |      |                             | rh.37\n",
      " |              |                   |      |\n",
      " |              |                   |      |                __________ cy.2\n",
      " |              |                   |      |_______________|\n",
      " |              |                   |                      |       ____ rh.54\n",
      " |              |      _____________|                      |______|\n",
      " |              |     |             |                             |           ___ rh.55\n",
      " |              |     |             |                             |__________|\n",
      " |              |     |             |                                        | , rh.48\n",
      " |              |     |             |                                        |_|\n",
      " |              |     |             |                                          | rh.62\n",
      " |              |     |             |\n",
      " |              |     |             |                                                     __ hu.43\n",
      " |              |     |             |____________________________________________________|\n",
      " |              |_____|                                                                  |    _ hu.48\n",
      " |                    |                                                                  |___|\n",
      " |                    |                                                                      |          , hu.44\n",
      " |                    |                                                                      |__________|\n",
      " |                    |                                                                                 |_ hu.46\n",
      " |                    |\n",
      " |                    |                                                                                     __ hu.14\n",
      " |                    |          __________________________________________________________________________|\n",
      " |                    |         |                                                                          |     , hu.31\n",
      " |                    |_________|                                                                          |_____|\n",
      " |                              |                                                                                | hu.32\n",
      " |                              |\n",
      " |                              |________________________ rh.43\n",
      " |\n",
      " | rh.52\n",
      "\n"
     ]
    }
   ],
   "source": [
    "%matplotlib inline\n",
    "\n",
    "from Bio import Phylo\n",
    "from io import StringIO\n",
    "\n",
    "tree = Phylo.read(\"tree.nwk\", \"newick\")\n",
    "\n",
    "Phylo.draw_ascii(tree, column_width = 125)"
   ]
  },
  {
   "cell_type": "markdown",
   "metadata": {},
   "source": [
    "The above plot is the sequences originally in seqs.fa aligned, and then put into a phylogenetic tree. There are a few  obvious large clusters of sequences. Within these larger clusters are smaller clusers that are closely related (ex. hu. 31 and hu. 32) The groups of sequences that are more closely related are the sequences whose common branch points have a shorter branch length between them, such as pi.1 and pi.2. More distantly related sequences are those such as hu.32 and hu.39, whose common branch point has long branch distances separating them."
   ]
  },
  {
   "cell_type": "code",
   "execution_count": 93,
   "metadata": {},
   "outputs": [
    {
     "name": "stdout",
     "output_type": "stream",
     "text": [
      "ID: hu.39\n",
      "Name: hu.39\n",
      "Description: hu.39\n",
      "Number of features: 0\n",
      "Seq('ATGGCTGCCGATGGTTATCTTCCAGATTGGCTCGAGGACAACCTCTCTGAGGGC...TAA', SingleLetterAlphabet())\n",
      "ID: rh.58\n",
      "Name: rh.58\n",
      "Description: rh.58\n",
      "Number of features: 0\n",
      "Seq('ATGGCTGCTGACGGTTATCTTCCAGATTGGCTCGAGGACAACCTCTCTGAGGGC...TAA', SingleLetterAlphabet())\n",
      "ID: pi.2\n",
      "Name: pi.2\n",
      "Description: pi.2\n",
      "Number of features: 0\n",
      "Seq('ATGGCTGCTGACGGTTATCTTCCAGATTGGCTCGAGGACAACCTCTCTGAGGGC...TAA', SingleLetterAlphabet())\n",
      "ID: rh.40\n",
      "Name: rh.40\n",
      "Description: rh.40\n",
      "Number of features: 0\n",
      "Seq('ATGGCTGCTGACGGTTATCTTCCAGATTGGCTCGAGGACAACCTCTCTGAGGGC...TAA', SingleLetterAlphabet())\n",
      "ID: cy.3\n",
      "Name: cy.3\n",
      "Description: cy.3\n",
      "Number of features: 0\n",
      "Seq('ATGGCTGCCGATGGTTATCTTCCAGATTGGCTCGAGGACAACCTCTCTGAGGGC...TAA', SingleLetterAlphabet())\n",
      "ID: rh.55\n",
      "Name: rh.55\n",
      "Description: rh.55\n",
      "Number of features: 0\n",
      "Seq('ATGGCTGCCGATGGTTATCTTCCAGATTGGCTCGAGGACAACCTCTCTGAGGGC...TAA', SingleLetterAlphabet())\n",
      "ID: hu.32\n",
      "Name: hu.32\n",
      "Description: hu.32\n",
      "Number of features: 0\n",
      "Seq('ATGGCTGCCGATGGTTATCTTCCAGATTGGCTCGAGGACACTCTCTCTGAAGGA...TAA', SingleLetterAlphabet())\n",
      "ID: rh.43\n",
      "Name: rh.43\n",
      "Description: rh.43\n",
      "Number of features: 0\n",
      "Seq('ATGGCTGCCGATGGTTATCTTCCAGATTGGCTCGAGGACAACCTCTCTGAGGGC...TAA', SingleLetterAlphabet())\n",
      "ID: rh.52\n",
      "Name: rh.52\n",
      "Description: rh.52\n",
      "Number of features: 0\n",
      "Seq('ATGGCTGCCGATGGTTATCTTCCAGATTGGCTCGAGGACAACCTCTCTGAGGGC...TAA', SingleLetterAlphabet())\n"
     ]
    }
   ],
   "source": [
    "from Bio import SeqIO\n",
    "record_dict = SeqIO.index(\"seqs.aligned.fa\",\"fasta\")\n",
    "print(record_dict[\"hu.39\"])\n",
    "print(record_dict[\"rh.58\"])\n",
    "\n",
    "print(record_dict[\"pi.2\"])\n",
    "print(record_dict[\"rh.40\"])\n",
    "\n",
    "print(record_dict[\"cy.3\"])\n",
    "print(record_dict[\"rh.55\"])\n",
    "\n",
    "print(record_dict[\"hu.32\"])\n",
    "\n",
    "print(record_dict[\"rh.43\"])\n",
    "\n",
    "print(record_dict[\"rh.52\"])"
   ]
  },
  {
   "cell_type": "markdown",
   "metadata": {},
   "source": [
    "We test a few sequences from each cluster (listed above, sequences shown) and run a BLAST on these sequences.\n",
    "\n",
    "The sequence for hu.39 aligned with \"Adeno-associated virus isolate hu.39 capsid protein VP1 (cap) gene, complete cds\", and the sequence rh.58 aligned with \"Adeno-associated virus isolate rh.58 capsid protein VP1 (cap) gene, complete cds\"\n",
    "these two genes are very similar within this cluster.\n",
    "\n",
    "pi.2 BLAST found a match to \"Adeno-associated virus isolate pi.2 capsid protein VP1 (cap) gene, complete cds\", and rh.40 BLAST found a match to \"Adeno-associated virus isolate rh.40 capsid protein VP1 (cap) gene, complete cds\". These two proteins are different, although in similar broad clusters.\n",
    "\n",
    "cy.3 BLAST found a match to \"Non-human primate Adeno-associated virus isolate AAVcy.3 capsid protein (VP1) gene, complete cds\" and rh.55 BLAST found a match to \"Adeno-associated virus isolate rh.55 capsid protein VP1 (cap) gene, complete cds\"\n",
    "\n",
    "rh.32 BLAST found a match to \"Adeno-associated virus isolate hu.32 capsid protein VP1 (cap) gene, complete cds\"\n",
    "\n",
    "hu.43 BLAST found a match to \"Adeno-associated virus isolate hu.43 capsid protein VP1 (cap) gene, complete cds\"\n",
    "\n",
    "rh.52 BLAST found a match to \"Adeno-associated virus isolate rh.52 capsid protein VP1 (cap) gene, complete cds\"\n",
    "\n",
    "Most sequences in broader clusters seem to be related. The sequences starting with the same two-letter codes (ex. hu, cy, rh) seemed to be more closely related to each other than to sequences with disparate two-letter codes. In some cases, such as hu.39 which was grouped with many rh sequences, there was an odd sequence out. We may not be able to trust the sequences that come up on BLAST because in our seq.aligned file, there are many gaps of nucleotides that have a variable region in the sequence. Additionally, the BLAST itself finds highly accurate matches with more than one protein, so there is some variability with which protein actually matches the inputted sequence properly within the BLAST.\n"
   ]
  },
  {
   "cell_type": "markdown",
   "metadata": {},
   "source": [
    "For the next segment, we will group the clusters into 4 larger clusters, whose distinctions are the branch point at the far left of the graph.The clusters we define as:\n",
    "\n",
    "#1 hu.39-rh.58 + rh.52\n",
    "#2 pi.2-hu.42\n",
    "#3 cy.3-rh.46\n",
    "#4 hu.14-rh.43\n"
   ]
  },
  {
   "cell_type": "code",
   "execution_count": 94,
   "metadata": {},
   "outputs": [
    {
     "name": "stderr",
     "output_type": "stream",
     "text": [
      "/usr/local/anaconda3-5.2.0/lib/python3.6/site-packages/ipykernel_launcher.py:24: RuntimeWarning: invalid value encountered in true_divide\n",
      "/usr/local/anaconda3-5.2.0/lib/python3.6/site-packages/ipykernel_launcher.py:25: RuntimeWarning: invalid value encountered in true_divide\n"
     ]
    },
    {
     "name": "stdout",
     "output_type": "stream",
     "text": [
      "[10. 10.  0. ... 10. 10. 10.]\n",
      "[ 0.  0. 10. ...  0.  0.  0.]\n"
     ]
    },
    {
     "data": {
      "image/png": "[encoded data removed]",
      "text/plain": [
       "<Figure size 432x288 with 1 Axes>"
      ]
     },
     "metadata": {},
     "output_type": "display_data"
    }
   ],
   "source": [
    "# cluster 1\n",
    "\n",
    "%matplotlib inline\n",
    "\n",
    "from Bio import SeqIO\n",
    "import numpy as np\n",
    "import matplotlib.pyplot as plt\n",
    "\n",
    "record_dict = SeqIO.index(\"seqs.aligned.fa\",\"fasta\")\n",
    "GC = np.zeros(len(record_dict[\"rh.52\"]))\n",
    "AT = np.zeros(len(record_dict[\"rh.52\"]))\n",
    "\n",
    "#cluster 1 list\n",
    "list_1 = [\"hu.39\",\"rh.50\", \"rh.57\", \"rh.51\", \"rh.49\", \"rh.53\", \"rh.64\", \"rh.61\", \"rh.58\", \"rh.52\"]\n",
    "\n",
    "for j in range (len(list_1)):\n",
    "    for i in range (len(record_dict[\"hu.39\"])):\n",
    "        if record_dict[list_1[j]][i] == \"G\" or record_dict[list_1[j]][i] == \"C\":\n",
    "            GC[i] = GC[i] +1\n",
    "        elif record_dict[list_1[j]][i] == \"A\" or record_dict[list_1[j]][i] == \"T\":\n",
    "            AT[i] = AT[i] +1\n",
    "    \n",
    "total_nt = np.add(GC, AT)\n",
    "frac_GC = np.divide(GC,total_nt)\n",
    "frac_AT = np.divide(AT,total_nt)\n",
    "\n",
    "print(AT)\n",
    "print(GC)\n",
    "\n",
    "p1 = plt.bar(range(len(AT)), frac_AT)\n",
    "p2 = plt.bar(range(len(AT)), frac_GC, bottom=frac_AT)\n",
    "\n",
    "plt.xlabel(\"nucleotide position\")\n",
    "plt.ylabel(\"%AT/%GC\")\n",
    "plt.title(\"GC content for cluster 1 (hu.39-rh.58 + rh.52)\")\n",
    "plt.legend((p1[0],p2[0]), (\"%AT\", \"%GC\"))\n",
    "plt.show()\n",
    "\n",
    "#print(record_dict[\"hu.39\"][2])\n",
    "#print(len(record_dict[\"rh.52\"]))\n"
   ]
  },
  {
   "cell_type": "code",
   "execution_count": 95,
   "metadata": {},
   "outputs": [
    {
     "name": "stderr",
     "output_type": "stream",
     "text": [
      "/usr/local/anaconda3-5.2.0/lib/python3.6/site-packages/ipykernel_launcher.py:24: RuntimeWarning: invalid value encountered in true_divide\n",
      "/usr/local/anaconda3-5.2.0/lib/python3.6/site-packages/ipykernel_launcher.py:25: RuntimeWarning: invalid value encountered in true_divide\n"
     ]
    },
    {
     "name": "stdout",
     "output_type": "stream",
     "text": [
      "[17. 17.  0. ... 17. 17. 17.]\n",
      "[ 0.  0. 17. ...  0.  0.  0.]\n"
     ]
    },
    {
     "data": {
      "image/png": "[encoded data removed]",
      "text/plain": [
       "<Figure size 432x288 with 1 Axes>"
      ]
     },
     "metadata": {},
     "output_type": "display_data"
    }
   ],
   "source": [
    "# cluster 2\n",
    "\n",
    "%matplotlib inline\n",
    "\n",
    "from Bio import SeqIO\n",
    "import numpy as np\n",
    "import matplotlib.pyplot as plt\n",
    "\n",
    "record_dict = SeqIO.index(\"seqs.aligned.fa\",\"fasta\")\n",
    "GC = np.zeros(len(record_dict[\"rh.52\"]))\n",
    "AT = np.zeros(len(record_dict[\"rh.52\"]))\n",
    "\n",
    "#cluster 2 list\n",
    "list_1 = [\"pi.2\", \"pi.3\", \"pi.1\", \"rh.10\", \"bb.1\", \"bb.2\", \"hu.17\", \"hu.6\", \"rh.2\",\"rh.40\",\"hu.67\",\"hu.37\",\"hu.40\",\"hu.66\",\"hu.41\",\"rh.38\",\"hu.42\"]\n",
    "\n",
    "for j in range (len(list_1)):\n",
    "    for i in range (len(record_dict[\"hu.39\"])):\n",
    "        if record_dict[list_1[j]][i] == \"G\" or record_dict[list_1[j]][i] == \"C\":\n",
    "            GC[i] = GC[i] +1\n",
    "        elif record_dict[list_1[j]][i] == \"A\" or record_dict[list_1[j]][i] == \"T\":\n",
    "            AT[i] = AT[i] +1\n",
    "    \n",
    "total_nt = np.add(GC, AT)\n",
    "frac_GC = np.divide(GC,total_nt)\n",
    "frac_AT = np.divide(AT,total_nt)\n",
    "\n",
    "print(AT)\n",
    "print(GC)\n",
    "\n",
    "p1 = plt.bar(range(len(AT)), frac_AT)\n",
    "p2 = plt.bar(range(len(AT)), frac_GC, bottom=frac_AT)\n",
    "\n",
    "plt.xlabel(\"nucleotide position\")\n",
    "plt.ylabel(\"%AT/%GC\")\n",
    "plt.title(\"GC content for cluster 2 (pi.2-hu.42)\")\n",
    "plt.legend((p1[0],p2[0]), (\"%AT\", \"%GC\"))\n",
    "plt.show()"
   ]
  },
  {
   "cell_type": "code",
   "execution_count": 96,
   "metadata": {},
   "outputs": [
    {
     "name": "stderr",
     "output_type": "stream",
     "text": [
      "/usr/local/anaconda3-5.2.0/lib/python3.6/site-packages/ipykernel_launcher.py:24: RuntimeWarning: invalid value encountered in true_divide\n",
      "/usr/local/anaconda3-5.2.0/lib/python3.6/site-packages/ipykernel_launcher.py:25: RuntimeWarning: invalid value encountered in true_divide\n"
     ]
    },
    {
     "name": "stdout",
     "output_type": "stream",
     "text": [
      "[17. 17.  0. ... 17. 17. 17.]\n",
      "[ 0.  0. 17. ...  0.  0.  0.]\n"
     ]
    },
    {
     "data": {
      "image/png": "[encoded data removed]",
      "text/plain": [
       "<Figure size 432x288 with 1 Axes>"
      ]
     },
     "metadata": {},
     "output_type": "display_data"
    }
   ],
   "source": [
    "# cluster 3\n",
    "\n",
    "%matplotlib inline\n",
    "\n",
    "from Bio import SeqIO\n",
    "import numpy as np\n",
    "import matplotlib.pyplot as plt\n",
    "\n",
    "record_dict = SeqIO.index(\"seqs.aligned.fa\",\"fasta\")\n",
    "GC = np.zeros(len(record_dict[\"rh.52\"]))\n",
    "AT = np.zeros(len(record_dict[\"rh.52\"]))\n",
    "\n",
    "#cluster 3 list\n",
    "list_1 = [\"cy.3\",\"cy.6\", \"cy.4\",\"cy.5\",\"rh.13\", \"rh.35\", \"rh.36\",\"rh.37\", \"cy.2\",\"rh.54\",\"rh.55\",\"rh.48\",\"rh.62\",\"hu.43\",\"hu.48\",\"hu.44\",\"hu.46\"]\n",
    "\n",
    "for j in range (len(list_1)):\n",
    "    for i in range (len(record_dict[\"hu.39\"])):\n",
    "        if record_dict[list_1[j]][i] == \"G\" or record_dict[list_1[j]][i] == \"C\":\n",
    "            GC[i] = GC[i] +1\n",
    "        elif record_dict[list_1[j]][i] == \"A\" or record_dict[list_1[j]][i] == \"T\":\n",
    "            AT[i] = AT[i] +1\n",
    "    \n",
    "total_nt = np.add(GC, AT)\n",
    "frac_GC = np.divide(GC,total_nt)\n",
    "frac_AT = np.divide(AT,total_nt)\n",
    "\n",
    "print(AT)\n",
    "print(GC)\n",
    "\n",
    "p1 = plt.bar(range(len(AT)), frac_AT)\n",
    "p2 = plt.bar(range(len(AT)), frac_GC, bottom=frac_AT)\n",
    "\n",
    "plt.xlabel(\"nucleotide position\")\n",
    "plt.ylabel(\"%AT/%GC\")\n",
    "plt.title(\"GC content for cluster 3 (cy.3-rh.46)\")\n",
    "plt.legend((p1[0],p2[0]), (\"%AT\", \"%GC\"))\n",
    "plt.show()"
   ]
  },
  {
   "cell_type": "code",
   "execution_count": 97,
   "metadata": {},
   "outputs": [
    {
     "name": "stderr",
     "output_type": "stream",
     "text": [
      "/usr/local/anaconda3-5.2.0/lib/python3.6/site-packages/ipykernel_launcher.py:24: RuntimeWarning: invalid value encountered in true_divide\n",
      "/usr/local/anaconda3-5.2.0/lib/python3.6/site-packages/ipykernel_launcher.py:25: RuntimeWarning: invalid value encountered in true_divide\n"
     ]
    },
    {
     "name": "stdout",
     "output_type": "stream",
     "text": [
      "[4. 4. 0. ... 4. 4. 4.]\n",
      "[0. 0. 4. ... 0. 0. 0.]\n"
     ]
    },
    {
     "data": {
      "image/png": "[encoded data removed]",
      "text/plain": [
       "<Figure size 432x288 with 1 Axes>"
      ]
     },
     "metadata": {},
     "output_type": "display_data"
    }
   ],
   "source": [
    "# cluster 4\n",
    "\n",
    "%matplotlib inline\n",
    "\n",
    "from Bio import SeqIO\n",
    "import numpy as np\n",
    "import matplotlib.pyplot as plt\n",
    "\n",
    "record_dict = SeqIO.index(\"seqs.aligned.fa\",\"fasta\")\n",
    "GC = np.zeros(len(record_dict[\"rh.52\"]))\n",
    "AT = np.zeros(len(record_dict[\"rh.52\"]))\n",
    "\n",
    "#cluster 4 list\n",
    "list_1 = [\"hu.14\",\"hu.31\",\"hu.32\",\"rh.43\"]\n",
    "\n",
    "for j in range (len(list_1)):\n",
    "    for i in range (len(record_dict[\"hu.39\"])):\n",
    "        if record_dict[list_1[j]][i] == \"G\" or record_dict[list_1[j]][i] == \"C\":\n",
    "            GC[i] = GC[i] +1\n",
    "        elif record_dict[list_1[j]][i] == \"A\" or record_dict[list_1[j]][i] == \"T\":\n",
    "            AT[i] = AT[i] +1\n",
    "    \n",
    "total_nt = np.add(GC, AT)\n",
    "frac_GC = np.divide(GC,total_nt)\n",
    "frac_AT = np.divide(AT,total_nt)\n",
    "\n",
    "print(AT)\n",
    "print(GC)\n",
    "\n",
    "p1 = plt.bar(range(len(AT)), frac_AT)\n",
    "p2 = plt.bar(range(len(AT)), frac_GC, bottom=frac_AT)\n",
    "\n",
    "plt.xlabel(\"nucleotide position\")\n",
    "plt.ylabel(\"%AT/%GC\")\n",
    "plt.title(\"GC content for cluster 4 (hu.14-rh.43)\")\n",
    "plt.legend((p1[0],p2[0]), (\"%AT\", \"%GC\"))\n",
    "plt.show()"
   ]
  },
  {
   "cell_type": "markdown",
   "metadata": {},
   "source": [
    "The above plots for clusters 1-4 show that in each major cluster, there tends to be a strong AT or CG preference at each position. It also seems that there are some regions that seem to have a cluster of one kinf of sequence. For example, in cluster 4, there is a band of blue that indicates there is a cluster of AT sequences around position 1300. "
   ]
  },
  {
   "cell_type": "code",
   "execution_count": 98,
   "metadata": {},
   "outputs": [
    {
     "data": {
      "text/plain": [
       "[Text(0,0,'cluster 1'),\n",
       " Text(0,0,'cluster 2'),\n",
       " Text(0,0,'cluster 3'),\n",
       " Text(0,0,'cluster 4'),\n",
       " Text(0,0,'all clusters')]"
      ]
     },
     "execution_count": 98,
     "metadata": {},
     "output_type": "execute_result"
    },
    {
     "data": {
      "image/png": "[encoded data removed]",
      "text/plain": [
       "<Figure size 648x432 with 1 Axes>"
      ]
     },
     "metadata": {},
     "output_type": "display_data"
    }
   ],
   "source": [
    "%matplotlib inline\n",
    "\n",
    "from Bio import SeqIO\n",
    "import numpy as np\n",
    "import matplotlib.pyplot as plt\n",
    "from pylab import hold\n",
    "\n",
    "record_dict = SeqIO.index(\"seqs.fa\",\"fasta\")\n",
    "#cluster 1 list\n",
    "list_1 = [\"hu.39\",\"rh.50\", \"rh.57\", \"rh.51\", \"rh.49\", \"rh.53\", \"rh.64\", \"rh.61\", \"rh.58\", \"rh.52\"]\n",
    "\n",
    "lengths_1 = np.zeros(len(list_1))\n",
    "\n",
    "for i in range(len(list_1)):\n",
    "    lengths_1[i]=len(record_dict[list_1[i]])\n",
    "\n",
    "\n",
    "#cluster 2 list\n",
    "list_2 = [\"pi.2\", \"pi.3\", \"pi.1\", \"rh.10\", \"bb.1\", \"bb.2\", \"hu.17\", \"hu.6\", \"rh.2\",\"rh.40\",\"hu.67\",\"hu.37\",\"hu.40\",\"hu.66\",\"hu.41\",\"rh.38\",\"hu.42\"]\n",
    "\n",
    "lengths_2 = np.zeros(len(list_2))\n",
    "\n",
    "for i in range(len(list_2)):\n",
    "    lengths_2[i]=len(record_dict[list_2[i]])\n",
    "    \n",
    "    \n",
    "#cluster 3 list\n",
    "list_3 = [\"cy.3\",\"cy.6\", \"cy.4\",\"cy.5\",\"rh.13\", \"rh.35\", \"rh.36\",\"rh.37\", \"cy.2\",\"rh.54\",\"rh.55\",\"rh.48\",\"rh.62\",\"hu.43\",\"hu.48\",\"hu.44\",\"hu.46\"]\n",
    "\n",
    "lengths_3 = np.zeros(len(list_3))\n",
    "\n",
    "for i in range(len(list_3)):\n",
    "    lengths_3[i]=len(record_dict[list_3[i]])\n",
    "    \n",
    "    \n",
    "    \n",
    "    \n",
    "#cluster 4 list\n",
    "list_4 = [\"hu.14\",\"hu.31\",\"hu.32\",\"rh.43\"]\n",
    "\n",
    "lengths_4 = np.zeros(len(list_4))\n",
    "\n",
    "for i in range(len(list_4)):\n",
    "    lengths_4[i]=len(record_dict[list_4[i]])\n",
    "    \n",
    "    \n",
    "lengths_all = np.concatenate((lengths_1, lengths_2, lengths_3, lengths_4), axis=None)\n",
    "    \n",
    "\n",
    "\n",
    "plotted_data = [lengths_1, lengths_2, lengths_3, lengths_4, lengths_all]\n",
    "fig = plt.figure (1, figsize=(9,6))\n",
    "ax = fig.add_subplot(111)\n",
    "\n",
    "bp = ax.boxplot(plotted_data)\n",
    "ax.set_xticklabels([\"cluster 1\",\"cluster 2\", \"cluster 3\", \"cluster 4\", \"all clusters\"])"
   ]
  },
  {
   "cell_type": "markdown",
   "metadata": {},
   "source": [
    "Above are the box-and-whisker plots for the clusters of sequences previously defined, using the sequences from seqs.fa (since the sequences in seqs.aligned.fa are aligned they would, by default, have the same length). Although the box-and-whisker plots look strange, it does make some sense: sequences that are closely related (in the same cluster) should have roughly the same length. If we plot all the clusters together, we see that the box-and-whisker plot does have more of a spread and looks more like a traditional plot. However, the distribution remains descretized because most sequences are of two given lengths (2217 and 2195). In this case, the box plots may not be the best way to analyze the data, but it does give a strong visualization that there are certain sequence lengths that are preferred in these clusters."
   ]
  }
 ],
 "metadata": {
  "kernelspec": {
   "display_name": "Python 3",
   "language": "python",
   "name": "python3"
  },
  "language_info": {
   "codemirror_mode": {
    "name": "ipython",
    "version": 3
   },
   "file_extension": ".py",
   "mimetype": "text/x-python",
   "name": "python",
   "nbconvert_exporter": "python",
   "pygments_lexer": "ipython3",
   "version": "3.6.5"
  }
 },
 "nbformat": 4,
 "nbformat_minor": 2
}
